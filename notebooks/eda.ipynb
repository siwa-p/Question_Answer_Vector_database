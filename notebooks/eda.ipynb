{
 "cells": [
  {
   "cell_type": "code",
   "execution_count": null,
   "metadata": {},
   "outputs": [],
   "source": [
    "import pandas as pd\n",
    "from transformers import pipeline, set_seed\n",
    "from sentence_transformers import SentenceTransformer\n",
    "import requests\n",
    "from bs4 import BeautifulSoup\n",
    "import chromadb\n",
    "from nltk.tokenize import sent_tokenize\n",
    "from tqdm.notebook import tqdm"
   ]
  },
  {
   "cell_type": "code",
   "execution_count": null,
   "metadata": {},
   "outputs": [],
   "source": [
    "picture_info = pd.read_csv('../data/best_picture_2000.csv')"
   ]
  },
  {
   "cell_type": "code",
   "execution_count": null,
   "metadata": {},
   "outputs": [],
   "source": [
    "def get_text(link):\n",
    "    response = requests.get(link)\n",
    "    soup = BeautifulSoup(response.text)\n",
    "    # Find all paragraphs within the main content area\n",
    "    paragraphs = soup.find(id='mw-content-text').find_all('p')\n",
    "    # Extract plain text from paragraphs using get_text() method\n",
    "    text = '\\n'.join([p.get_text() for p in paragraphs])\n",
    "    return text"
   ]
  },
  {
   "cell_type": "code",
   "execution_count": null,
   "metadata": {},
   "outputs": [],
   "source": [
    "picture_info['body_text'] = picture_info['link'].apply(get_text)"
   ]
  },
  {
   "cell_type": "code",
   "execution_count": null,
   "metadata": {},
   "outputs": [],
   "source": [
    "picture_info = picture_info.reset_index()"
   ]
  },
  {
   "cell_type": "code",
   "execution_count": null,
   "metadata": {},
   "outputs": [],
   "source": [
    "picture_info.head()"
   ]
  },
  {
   "cell_type": "code",
   "execution_count": null,
   "metadata": {},
   "outputs": [],
   "source": [
    "# client = chromadb.PersistentClient(path=\"../chromadb\")\n",
    "# collection = client.create_collection(\"picture_info\")"
   ]
  },
  {
   "cell_type": "code",
   "execution_count": null,
   "metadata": {},
   "outputs": [],
   "source": [
    "# def add_picture(picture):\n",
    "#     sentences = sent_tokenize(picture['body_text'])\n",
    "#     collection.add(\n",
    "#         documents = sentences,\n",
    "#         ids = [f'{picture[\"index\"]}_{i}' for i in range(len(sentences))],\n",
    "#         metadatas = [{'picture': picture['title']}] * len(sentences)\n",
    "#     )"
   ]
  },
  {
   "cell_type": "code",
   "execution_count": null,
   "metadata": {},
   "outputs": [],
   "source": [
    "# import nltk\n",
    "# import os\n",
    "# nltk.data.path.append('/home/prahlad/nltk_data')\n",
    "# nltk.download('punkt_tab', download_dir='/home/prahlad/nltk_data')"
   ]
  },
  {
   "cell_type": "code",
   "execution_count": null,
   "metadata": {},
   "outputs": [],
   "source": [
    "# for _, row in tqdm(picture_info.iterrows()):\n",
    "#     print(row['title'])\n",
    "#     add_picture(row)"
   ]
  },
  {
   "cell_type": "code",
   "execution_count": null,
   "metadata": {},
   "outputs": [],
   "source": [
    "questions = pd.read_csv('../data/QAs.csv')"
   ]
  },
  {
   "cell_type": "code",
   "execution_count": null,
   "metadata": {},
   "outputs": [],
   "source": [
    "questions"
   ]
  },
  {
   "cell_type": "code",
   "execution_count": null,
   "metadata": {},
   "outputs": [],
   "source": [
    "client = chromadb.PersistentClient(path=\"../chromadb\")\n",
    "collection = client.get_collection(\"picture_info\")"
   ]
  },
  {
   "cell_type": "code",
   "execution_count": null,
   "metadata": {},
   "outputs": [],
   "source": [
    "collection.count()"
   ]
  },
  {
   "cell_type": "code",
   "execution_count": null,
   "metadata": {},
   "outputs": [],
   "source": [
    "def context(row):\n",
    "    question = row['question']\n",
    "    movie_title = row['film']\n",
    "    query_text = f\"{movie_title} {question}\"\n",
    "    results = collection.query(\n",
    "    query_texts = [query_text],\n",
    "    n_results = 5\n",
    "    )\n",
    "    \n",
    "    filtered_texts = []\n",
    "    for doc, metadatas in zip(results['documents'], results['metadatas']):\n",
    "        for index, meta in enumerate(metadatas):\n",
    "            # Check if movie_title is in the values associated with 'picture' key\n",
    "            if meta['picture'] == movie_title:\n",
    "                filtered_texts.append(doc[index])\n",
    "                break  # Stop iterating over metadata once a match is found\n",
    "            \n",
    "    return '\\n'.join(filtered_texts)"
   ]
  },
  {
   "cell_type": "code",
   "execution_count": null,
   "metadata": {},
   "outputs": [],
   "source": [
    "def context2(question):\n",
    "    results = collection.query(\n",
    "    query_texts = [question],\n",
    "    n_results = 5\n",
    "    )\n",
    "    return '\\n'.join(results['documents'][0])"
   ]
  },
  {
   "cell_type": "code",
   "execution_count": null,
   "metadata": {},
   "outputs": [],
   "source": [
    "questions['context']=  questions.apply(context, axis=1)"
   ]
  },
  {
   "cell_type": "code",
   "execution_count": null,
   "metadata": {},
   "outputs": [],
   "source": [
    "questions['context']=  questions['question'].apply(context2)"
   ]
  },
  {
   "cell_type": "markdown",
   "metadata": {},
   "source": [
    "Question answering models"
   ]
  },
  {
   "cell_type": "code",
   "execution_count": null,
   "metadata": {},
   "outputs": [],
   "source": [
    "encoder = SentenceTransformer('sentence-transformers/all-MiniLM-L6-v2')"
   ]
  },
  {
   "cell_type": "code",
   "execution_count": null,
   "metadata": {},
   "outputs": [],
   "source": [
    "embeddings = questions['context'].apply(encoder.encode)"
   ]
  },
  {
   "cell_type": "code",
   "execution_count": null,
   "metadata": {},
   "outputs": [],
   "source": [
    "decoder = pipeline('text-generation', model='distilgpt2')"
   ]
  },
  {
   "cell_type": "code",
   "execution_count": null,
   "metadata": {},
   "outputs": [],
   "source": [
    "qa = pipeline(task=\"question-answering\")"
   ]
  },
  {
   "cell_type": "code",
   "execution_count": null,
   "metadata": {},
   "outputs": [],
   "source": [
    "def answer_generation(row):\n",
    "    question = row['question']\n",
    "    context = row['context']  \n",
    "    try:\n",
    "        answer = qa(question=question, context=context)\n",
    "        return answer['answer']\n",
    "    except ValueError as e:\n",
    "        print(f\"Error generating answer for question '{question}': {e}\")\n",
    "        return \"Error: Unable to generate answer\""
   ]
  },
  {
   "cell_type": "code",
   "execution_count": null,
   "metadata": {},
   "outputs": [],
   "source": [
    "questions['answer_generated'] = questions.apply(answer_generation, axis=1)"
   ]
  },
  {
   "cell_type": "code",
   "execution_count": null,
   "metadata": {},
   "outputs": [],
   "source": [
    "questions[['question','answer','answer_generated']]"
   ]
  },
  {
   "cell_type": "code",
   "execution_count": null,
   "metadata": {},
   "outputs": [],
   "source": [
    "import numpy as np\n",
    "np.sum(questions['answer']== questions['answer_generated'])"
   ]
  }
 ],
 "metadata": {
  "kernelspec": {
   "display_name": "qavb_env",
   "language": "python",
   "name": "python3"
  },
  "language_info": {
   "codemirror_mode": {
    "name": "ipython",
    "version": 3
   },
   "file_extension": ".py",
   "mimetype": "text/x-python",
   "name": "python",
   "nbconvert_exporter": "python",
   "pygments_lexer": "ipython3",
   "version": "3.12.9"
  }
 },
 "nbformat": 4,
 "nbformat_minor": 2
}
